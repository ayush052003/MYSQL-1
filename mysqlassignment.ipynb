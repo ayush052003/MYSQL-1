{
 "cells": [
  {
   "cell_type": "code",
   "execution_count": 1,
   "id": "c6a733ef-8a5a-4dbe-be45-4d814a53ae30",
   "metadata": {},
   "outputs": [
    {
     "data": {
      "text/plain": [
       "'Q1. What is a database? Differentiate between SQL and NoSQL databases.'"
      ]
     },
     "execution_count": 1,
     "metadata": {},
     "output_type": "execute_result"
    }
   ],
   "source": [
    "'''Q1. What is a database? Differentiate between SQL and NoSQL databases.'''"
   ]
  },
  {
   "cell_type": "code",
   "execution_count": 2,
   "id": "3ed069ac-7982-4eb4-b26c-ac08548bb316",
   "metadata": {},
   "outputs": [],
   "source": [
    "# If we talk about database so database is simply used to store our data ....\n",
    "\n",
    "# A simple difference between SQL and NO SQl is given below...."
   ]
  },
  {
   "cell_type": "code",
   "execution_count": 3,
   "id": "04dbebf4-0655-459a-9374-160e55feff44",
   "metadata": {},
   "outputs": [],
   "source": [
    "# SQL ---\n",
    "\n",
    "# 1.RELATIONAL DATABASE MANAGEMENT SYSTEM (RDBMS)\n",
    "# 2.These databases have fixed or static or predefined schema\n",
    "# 3.These databases are not suited for hierarchical data storage.\n",
    "# 4.These databases are best suited for complex queries\n",
    "# 5.Vertically Scalable\n",
    "# 6.Examples: MySQL, PostgreSQL, Oracle, MS-SQL Server, etc"
   ]
  },
  {
   "cell_type": "code",
   "execution_count": 4,
   "id": "cc0645cb-b1bb-4804-a2b5-d59d668f7fb5",
   "metadata": {},
   "outputs": [],
   "source": [
    "# NO SQL ----\n",
    "\n",
    "# 1.Non-relational or distributed database system.\n",
    "# 2.They have a dynamic schema\n",
    "# 3.These databases are best suited for hierarchical data storage.\n",
    "# 4.These databases are not so good for complex queries\n",
    "# 5.Horizontally scalable\n",
    "# 6.Examples: MongoDB, GraphQL, HBase, Neo4j, Cassandra, etc"
   ]
  },
  {
   "cell_type": "code",
   "execution_count": 5,
   "id": "d4621268-5d48-499c-868c-7ea36a0b74f8",
   "metadata": {},
   "outputs": [
    {
     "data": {
      "text/plain": [
       "'Q2. What is DDL? Explain why CREATE, DROP, ALTER, and TRUNCATE are used with an example'"
      ]
     },
     "execution_count": 5,
     "metadata": {},
     "output_type": "execute_result"
    }
   ],
   "source": [
    "'''Q2. What is DDL? Explain why CREATE, DROP, ALTER, and TRUNCATE are used with an example'''"
   ]
  },
  {
   "cell_type": "code",
   "execution_count": 6,
   "id": "e9f921c1-1cd0-47b1-986b-ee595632a3f9",
   "metadata": {},
   "outputs": [],
   "source": [
    "# Data Definition Language(DDL) is a subset of SQL and a part of DBMS(Database Management System). DDL consist of Commands to commands\n",
    "# like CREATE, ALTER, TRUNCATE and DROP. These commands are used to create or modify the tables in SQL."
   ]
  },
  {
   "cell_type": "code",
   "execution_count": 7,
   "id": "7c15648a-e91b-44fa-baf1-e6cd89ca52eb",
   "metadata": {},
   "outputs": [
    {
     "data": {
      "text/plain": [
       "'CREATE :\\nThis command is used to create a new table in SQL. The user has to give information like table name, column names, and their datatypes.'"
      ]
     },
     "execution_count": 7,
     "metadata": {},
     "output_type": "execute_result"
    }
   ],
   "source": [
    "# Command-1 :\n",
    "'''CREATE :\n",
    "This command is used to create a new table in SQL. The user has to give information like table name, column names, and their datatypes.'''"
   ]
  },
  {
   "cell_type": "code",
   "execution_count": 8,
   "id": "e5bce641-8229-4f5b-8aa7-ea0fe62d9ec2",
   "metadata": {},
   "outputs": [
    {
     "ename": "SyntaxError",
     "evalue": "invalid syntax (4175920542.py, line 1)",
     "output_type": "error",
     "traceback": [
      "\u001b[0;36m  Cell \u001b[0;32mIn[8], line 1\u001b[0;36m\u001b[0m\n\u001b[0;31m    CREATE TABLE Student_info(College_Id number(2),College_name varchar(30),Branch varchar(10));\u001b[0m\n\u001b[0m           ^\u001b[0m\n\u001b[0;31mSyntaxError\u001b[0m\u001b[0;31m:\u001b[0m invalid syntax\n"
     ]
    }
   ],
   "source": [
    "CREATE TABLE Student_info(College_Id number(2),College_name varchar(30),Branch varchar(10));"
   ]
  },
  {
   "cell_type": "code",
   "execution_count": 9,
   "id": "4b4354f0-194f-4ad4-a5e3-662375ea395c",
   "metadata": {},
   "outputs": [
    {
     "data": {
      "text/plain": [
       "'ALTER :\\nThis command is used to add, delete or change columns in the existing table. The user needs to know the existing table name and can do \\nadd, delete or modify tasks easily.'"
      ]
     },
     "execution_count": 9,
     "metadata": {},
     "output_type": "execute_result"
    }
   ],
   "source": [
    "# Command-2 :\n",
    "'''ALTER :\n",
    "This command is used to add, delete or change columns in the existing table. The user needs to know the existing table name and can do \n",
    "add, delete or modify tasks easily.'''"
   ]
  },
  {
   "cell_type": "code",
   "execution_count": 10,
   "id": "64cf2789-e45e-4831-a7b4-cf2a059e12dc",
   "metadata": {},
   "outputs": [
    {
     "ename": "SyntaxError",
     "evalue": "invalid syntax (3549970223.py, line 1)",
     "output_type": "error",
     "traceback": [
      "\u001b[0;36m  Cell \u001b[0;32mIn[10], line 1\u001b[0;36m\u001b[0m\n\u001b[0;31m    ALTER TABLE Student_info\u001b[0m\n\u001b[0m          ^\u001b[0m\n\u001b[0;31mSyntaxError\u001b[0m\u001b[0;31m:\u001b[0m invalid syntax\n"
     ]
    }
   ],
   "source": [
    "ALTER TABLE Student_info\n",
    "ADD CGPA number;"
   ]
  },
  {
   "cell_type": "code",
   "execution_count": 11,
   "id": "77318bbd-43bf-40ce-9f2e-24f84998ed08",
   "metadata": {},
   "outputs": [
    {
     "data": {
      "text/plain": [
       "'TRUNCATE :\\nThis command is used to remove all rows from the table, but the structure of the table still exists.'"
      ]
     },
     "execution_count": 11,
     "metadata": {},
     "output_type": "execute_result"
    }
   ],
   "source": [
    "# Command-3 :\n",
    "'''TRUNCATE :\n",
    "This command is used to remove all rows from the table, but the structure of the table still exists.'''"
   ]
  },
  {
   "cell_type": "code",
   "execution_count": 12,
   "id": "7fa1e53c-610b-4020-8ac5-c9035176a285",
   "metadata": {},
   "outputs": [
    {
     "ename": "SyntaxError",
     "evalue": "invalid syntax (1145199434.py, line 1)",
     "output_type": "error",
     "traceback": [
      "\u001b[0;36m  Cell \u001b[0;32mIn[12], line 1\u001b[0;36m\u001b[0m\n\u001b[0;31m    TRUNCATE TABLE Student_info;\u001b[0m\n\u001b[0m             ^\u001b[0m\n\u001b[0;31mSyntaxError\u001b[0m\u001b[0;31m:\u001b[0m invalid syntax\n"
     ]
    }
   ],
   "source": [
    "TRUNCATE TABLE Student_info;"
   ]
  },
  {
   "cell_type": "code",
   "execution_count": 13,
   "id": "37e88943-3601-406e-a51e-fcecb440258d",
   "metadata": {},
   "outputs": [
    {
     "data": {
      "text/plain": [
       "'DROP :\\nThis command is used to remove an existing table along with its structure from the Database.'"
      ]
     },
     "execution_count": 13,
     "metadata": {},
     "output_type": "execute_result"
    }
   ],
   "source": [
    "# Command-4 :\n",
    "'''DROP :\n",
    "This command is used to remove an existing table along with its structure from the Database.'''"
   ]
  },
  {
   "cell_type": "code",
   "execution_count": 14,
   "id": "e10c006d-0b04-4b32-8847-106810f7ec84",
   "metadata": {},
   "outputs": [
    {
     "ename": "SyntaxError",
     "evalue": "invalid syntax (3543308448.py, line 1)",
     "output_type": "error",
     "traceback": [
      "\u001b[0;36m  Cell \u001b[0;32mIn[14], line 1\u001b[0;36m\u001b[0m\n\u001b[0;31m    DROP TABLE Student_info;\u001b[0m\n\u001b[0m         ^\u001b[0m\n\u001b[0;31mSyntaxError\u001b[0m\u001b[0;31m:\u001b[0m invalid syntax\n"
     ]
    }
   ],
   "source": [
    "DROP TABLE Student_info;"
   ]
  },
  {
   "cell_type": "code",
   "execution_count": 15,
   "id": "0a8b109c-a0a9-41e6-b351-85ac1b132304",
   "metadata": {},
   "outputs": [
    {
     "data": {
      "text/plain": [
       "'Q3. What is DML? Explain INSERT, UPDATE, and DELETE with an example.'"
      ]
     },
     "execution_count": 15,
     "metadata": {},
     "output_type": "execute_result"
    }
   ],
   "source": [
    "'''Q3. What is DML? Explain INSERT, UPDATE, and DELETE with an example.'''"
   ]
  },
  {
   "cell_type": "code",
   "execution_count": 16,
   "id": "473a356a-43a2-441f-afef-acf3a7416d4b",
   "metadata": {},
   "outputs": [
    {
     "data": {
      "text/plain": [
       "'DML stands for  Data Manipulation Language.The DML commands in Structured Query Language change the data present in the SQL database.\\nWe can easily access, store, modify, update and delete the existing records from the database using DML commands.'"
      ]
     },
     "execution_count": 16,
     "metadata": {},
     "output_type": "execute_result"
    }
   ],
   "source": [
    "'''DML stands for  Data Manipulation Language.The DML commands in Structured Query Language change the data present in the SQL database.\n",
    "We can easily access, store, modify, update and delete the existing records from the database using DML commands.'''"
   ]
  },
  {
   "cell_type": "code",
   "execution_count": 17,
   "id": "5b65017b-5381-41f1-9227-537235e06fb5",
   "metadata": {},
   "outputs": [
    {
     "ename": "SyntaxError",
     "evalue": "invalid syntax (2370565149.py, line 5)",
     "output_type": "error",
     "traceback": [
      "\u001b[0;36m  Cell \u001b[0;32mIn[17], line 5\u001b[0;36m\u001b[0m\n\u001b[0;31m    INSERT INTO TABLE_NAME ( column_Name1 , column_Name2 , column_Name3 , .... column_NameN )  VALUES (value_1, value_2, value_3, .... value_N ) ;\u001b[0m\n\u001b[0m           ^\u001b[0m\n\u001b[0;31mSyntaxError\u001b[0m\u001b[0;31m:\u001b[0m invalid syntax\n"
     ]
    }
   ],
   "source": [
    "# INSERT DML Command\n",
    "'''INSERT is another most important data manipulation command in Structured Query Language, which allows users to insert data in database \n",
    "tables'''\n",
    "\n",
    "INSERT INTO TABLE_NAME ( column_Name1 , column_Name2 , column_Name3 , .... column_NameN )  VALUES (value_1, value_2, value_3, .... value_N ) ;   "
   ]
  },
  {
   "cell_type": "code",
   "execution_count": 18,
   "id": "6902ff26-bf1b-411b-8354-a20f8ad1ef14",
   "metadata": {},
   "outputs": [
    {
     "ename": "SyntaxError",
     "evalue": "invalid character '…' (U+2026) (389063026.py, line 5)",
     "output_type": "error",
     "traceback": [
      "\u001b[0;36m  Cell \u001b[0;32mIn[18], line 5\u001b[0;36m\u001b[0m\n\u001b[0;31m    UPDATE Table_name SET [column_name1= value_1, ….., column_nameN = value_N] WHERE CONDITION;\u001b[0m\n\u001b[0m                                                  ^\u001b[0m\n\u001b[0;31mSyntaxError\u001b[0m\u001b[0;31m:\u001b[0m invalid character '…' (U+2026)\n"
     ]
    }
   ],
   "source": [
    "# UPDATE DML Command\n",
    "'''UPDATE is another most important data manipulation command in Structured Query Language, which allows users to update or modify the\n",
    "existing data in database tables.'''\n",
    "\n",
    "UPDATE Table_name SET [column_name1= value_1, ….., column_nameN = value_N] WHERE CONDITION;  "
   ]
  },
  {
   "cell_type": "code",
   "execution_count": 19,
   "id": "0908e0d0-71cf-43b8-9c7c-df8ac9fff178",
   "metadata": {},
   "outputs": [
    {
     "ename": "SyntaxError",
     "evalue": "invalid syntax (1498413913.py, line 7)",
     "output_type": "error",
     "traceback": [
      "\u001b[0;36m  Cell \u001b[0;32mIn[19], line 7\u001b[0;36m\u001b[0m\n\u001b[0;31m    DELETE FROM Table_Name WHERE condition;\u001b[0m\n\u001b[0m           ^\u001b[0m\n\u001b[0;31mSyntaxError\u001b[0m\u001b[0;31m:\u001b[0m invalid syntax\n"
     ]
    }
   ],
   "source": [
    "# DELETE DML Command\n",
    "'''DELETE is a DML command which allows SQL users to remove single or multiple existing records from the database tables.\n",
    "\n",
    "This command of Data Manipulation Language does not delete the stored data permanently from the database. We use the WHERE clause with\n",
    "the DELETE command to select specific rows from the table.'''\n",
    "\n",
    "DELETE FROM Table_Name WHERE condition;  "
   ]
  },
  {
   "cell_type": "code",
   "execution_count": 20,
   "id": "aafb8e7e-f85f-4908-bf90-d8d0e38ca746",
   "metadata": {},
   "outputs": [],
   "source": [
    "# THE ERRORS OCCURS DUE TO USAGE OF JUPTER NOTEBOOK,,,,NOT USING MY SQL PLUS PYTHON"
   ]
  },
  {
   "cell_type": "code",
   "execution_count": 21,
   "id": "51ed83d3-5d10-43ad-a43d-21c719abf1ce",
   "metadata": {},
   "outputs": [
    {
     "data": {
      "text/plain": [
       "'Q4. What is DQL? Explain SELECT with an example.'"
      ]
     },
     "execution_count": 21,
     "metadata": {},
     "output_type": "execute_result"
    }
   ],
   "source": [
    "'''Q4. What is DQL? Explain SELECT with an example.'''"
   ]
  },
  {
   "cell_type": "code",
   "execution_count": 22,
   "id": "b05fa16e-7f97-40e0-863e-667f5cd490ff",
   "metadata": {},
   "outputs": [
    {
     "data": {
      "text/plain": [
       "'DQL statements are used for performing queries on the data within schema objects. The purpose of the DQL Command is to get some schema\\nrelation based on the query passed to it. We can define DQL as follows it is a component of SQL statement that allows getting data from\\nthe database and imposing order upon it. It includes the SELECT statement.'"
      ]
     },
     "execution_count": 22,
     "metadata": {},
     "output_type": "execute_result"
    }
   ],
   "source": [
    "'''DQL statements are used for performing queries on the data within schema objects. The purpose of the DQL Command is to get some schema\n",
    "relation based on the query passed to it. We can define DQL as follows it is a component of SQL statement that allows getting data from\n",
    "the database and imposing order upon it. It includes the SELECT statement.'''"
   ]
  },
  {
   "cell_type": "code",
   "execution_count": 23,
   "id": "0a36a4f3-f219-47f3-bf7e-4b9f2b196ec4",
   "metadata": {},
   "outputs": [
    {
     "ename": "SyntaxError",
     "evalue": "invalid syntax (4180167571.py, line 1)",
     "output_type": "error",
     "traceback": [
      "\u001b[0;36m  Cell \u001b[0;32mIn[23], line 1\u001b[0;36m\u001b[0m\n\u001b[0;31m    select *\u001b[0m\n\u001b[0m            ^\u001b[0m\n\u001b[0;31mSyntaxError\u001b[0m\u001b[0;31m:\u001b[0m invalid syntax\n"
     ]
    }
   ],
   "source": [
    "select *\n",
    "from employee;  \n",
    "asterisk mark (*) indicates that all the rows are retrieved from the table. \n",
    "\n"
   ]
  },
  {
   "cell_type": "code",
   "execution_count": 24,
   "id": "ce4c4d54-c81b-4c29-88fe-5f078f211f45",
   "metadata": {},
   "outputs": [
    {
     "ename": "SyntaxError",
     "evalue": "invalid syntax (4097086616.py, line 1)",
     "output_type": "error",
     "traceback": [
      "\u001b[0;36m  Cell \u001b[0;32mIn[24], line 1\u001b[0;36m\u001b[0m\n\u001b[0;31m    select avg(salary)\u001b[0m\n\u001b[0m           ^\u001b[0m\n\u001b[0;31mSyntaxError\u001b[0m\u001b[0;31m:\u001b[0m invalid syntax\n"
     ]
    }
   ],
   "source": [
    "select avg(salary) \n",
    "from employee; \n",
    "This displays the average salary of the employees. "
   ]
  },
  {
   "cell_type": "code",
   "execution_count": 25,
   "id": "61d59e00-28f8-4714-a44f-9bb94e91e7f8",
   "metadata": {},
   "outputs": [
    {
     "data": {
      "text/plain": [
       "'Q5. Explain Primary Key and Foreign Key.'"
      ]
     },
     "execution_count": 25,
     "metadata": {},
     "output_type": "execute_result"
    }
   ],
   "source": [
    "'''Q5. Explain Primary Key and Foreign Key.'''"
   ]
  },
  {
   "cell_type": "code",
   "execution_count": 26,
   "id": "8ad97f80-c267-485d-88db-1d1c0535d40b",
   "metadata": {},
   "outputs": [],
   "source": [
    "# A primary key is used to ensure that data in the specific column is unique. A column cannot have NULL values.\n",
    "\n",
    "# Example: STUD_NO, as well as STUD_PHONE both, are candidate keys for relation STUDENT but STUD_NO can be chosen as the primary key\n",
    "# (only one out of many candidate keys). "
   ]
  },
  {
   "cell_type": "code",
   "execution_count": 28,
   "id": "8d4f5fc7-88c2-4535-a49c-0ee4c740e032",
   "metadata": {},
   "outputs": [],
   "source": [
    "# A foreign key is a column or group of columns in a relational database table that provides a link between data in two tables. It is a column (or columns) that references a column (most often the primary key) of another table. \n",
    "\n",
    "# Example: STUD_NO in STUDENT_COURSE is a foreign key to STUD_NO in STUDENT relation. "
   ]
  },
  {
   "cell_type": "code",
   "execution_count": 29,
   "id": "8477c6e1-a45e-4fb4-8398-a5d75aac29d5",
   "metadata": {},
   "outputs": [
    {
     "data": {
      "text/plain": [
       "'Q6. Write a python code to connect MySQL to python. Explain the cursor() and execute() method.'"
      ]
     },
     "execution_count": 29,
     "metadata": {},
     "output_type": "execute_result"
    }
   ],
   "source": [
    "'''Q6. Write a python code to connect MySQL to python. Explain the cursor() and execute() method.'''"
   ]
  },
  {
   "cell_type": "code",
   "execution_count": 31,
   "id": "01e11da8-9bb9-49de-8314-d611a6f609db",
   "metadata": {},
   "outputs": [
    {
     "data": {
      "text/plain": [
       "'import mysql.connector\\n# import mysql.connector\\n#create user \\'user\\'@\\'%\\' identified by \\'password\\'\\nmydb = mysql.connector.connect(\\n  host=\"localhost\",\\n  user=\"abc\",\\n  password=\"password\"\\n)\\nprint(mydb)\\nmycursor = mydb.cursor()'"
      ]
     },
     "execution_count": 31,
     "metadata": {},
     "output_type": "execute_result"
    }
   ],
   "source": [
    "# Required is generally used to connect the MYSQL with the python.....\n",
    "\n",
    "'''import mysql.connector\n",
    "# import mysql.connector\n",
    "#create user 'user'@'%' identified by 'password'\n",
    "mydb = mysql.connector.connect(\n",
    "  host=\"localhost\",\n",
    "  user=\"abc\",\n",
    "  password=\"password\"\n",
    ")\n",
    "print(mydb)\n",
    "mycursor = mydb.cursor()'''"
   ]
  },
  {
   "cell_type": "code",
   "execution_count": 32,
   "id": "b6c7199a-48bd-44ef-982c-43c170314065",
   "metadata": {},
   "outputs": [
    {
     "data": {
      "text/plain": [
       "'This method executes the given database operation (query or command). The parameters found in the tuple or dictionary params are \\nbound to the variables in the operation'"
      ]
     },
     "execution_count": 32,
     "metadata": {},
     "output_type": "execute_result"
    }
   ],
   "source": [
    "# CURSOR()---\n",
    "\n",
    "'''This method executes the given database operation (query or command). The parameters found in the tuple or dictionary params are \n",
    "bound to the variables in the operation'''"
   ]
  },
  {
   "cell_type": "code",
   "execution_count": null,
   "id": "a3aa02aa-8646-491b-9e87-f31d7ac1eb91",
   "metadata": {},
   "outputs": [],
   "source": [
    "'''Q7. Give the order of execution of SQL clauses in an SQL query'''"
   ]
  },
  {
   "cell_type": "code",
   "execution_count": null,
   "id": "dcdb44d4-cfdb-44f6-b21c-c2ee732bf97c",
   "metadata": {},
   "outputs": [],
   "source": [
    "# ORDER GIVEN BELOW\n",
    "\n",
    "# 1.FROM/JOIN: to determine the data of interest\n",
    "# 2.ON: to specify the join conditions\n",
    "# 3.WHERE: to filter out records that do not meet the constraints\n",
    "# 4.GROUP BY: to group the data based on the values in one or more columns\n",
    "# 5.HAVING: to filter out groups that do not meet the conditions\n",
    "# 6.SELECT: to project the columns of interest\n",
    "# 7.DISTINCT: to eliminate duplicate rows\n",
    "# 8.ORDER BY: to sort the rows by one or more columns\n",
    "# 9.LIMIT/OFFSET or TOP: to limit the number of rows returned"
   ]
  }
 ],
 "metadata": {
  "kernelspec": {
   "display_name": "Python 3 (ipykernel)",
   "language": "python",
   "name": "python3"
  },
  "language_info": {
   "codemirror_mode": {
    "name": "ipython",
    "version": 3
   },
   "file_extension": ".py",
   "mimetype": "text/x-python",
   "name": "python",
   "nbconvert_exporter": "python",
   "pygments_lexer": "ipython3",
   "version": "3.10.8"
  }
 },
 "nbformat": 4,
 "nbformat_minor": 5
}
